{
 "cells": [
  {
   "cell_type": "markdown",
   "metadata": {},
   "source": [
    "<p style=\"text-align:center\">\n",
    "    <a href=\"https://skills.network\" target=\"_blank\">\n",
    "    <img src=\"https://cf-courses-data.s3.us.cloud-object-storage.appdomain.cloud/assets/logos/SN_web_lightmode.png\" width=\"200\" alt=\"Skills Network Logo\"  />\n",
    "    </a>\n",
    "</p>\n"
   ]
  },
  {
   "cell_type": "markdown",
   "metadata": {},
   "source": [
    "# **Finding How The Data Is Distributed**\n"
   ]
  },
  {
   "cell_type": "markdown",
   "metadata": {},
   "source": [
    "Estimated time needed: **30** minutes\n"
   ]
  },
  {
   "cell_type": "markdown",
   "metadata": {},
   "source": [
    "In this lab, you will work with a cleaned dataset to perform Exploratory Data Analysis (EDA). You will examine the structure of the data, visualize key variables, and analyze trends related to developer experience, tools, job satisfaction, and other important aspects.\n"
   ]
  },
  {
   "cell_type": "markdown",
   "metadata": {},
   "source": [
    "## Objectives\n"
   ]
  },
  {
   "cell_type": "markdown",
   "metadata": {},
   "source": [
    "In this lab you will perform the following:\n"
   ]
  },
  {
   "cell_type": "markdown",
   "metadata": {},
   "source": [
    "- Understand the structure of the dataset.\n",
    "\n",
    "- Perform summary statistics and data visualization.\n",
    "\n",
    "- Identify trends in developer experience, tools, job satisfaction, and other key variables.\n"
   ]
  },
  {
   "cell_type": "markdown",
   "metadata": {},
   "source": [
    "### Install the required libraries\n"
   ]
  },
  {
   "cell_type": "code",
   "execution_count": 1,
   "metadata": {},
   "outputs": [
    {
     "name": "stdout",
     "output_type": "stream",
     "text": [
      "Collecting pandas\n",
      "  Downloading pandas-2.3.1-cp312-cp312-manylinux_2_17_x86_64.manylinux2014_x86_64.whl.metadata (91 kB)\n",
      "Collecting numpy>=1.26.0 (from pandas)\n",
      "  Downloading numpy-2.3.1-cp312-cp312-manylinux_2_28_x86_64.whl.metadata (62 kB)\n",
      "Requirement already satisfied: python-dateutil>=2.8.2 in /opt/conda/lib/python3.12/site-packages (from pandas) (2.9.0.post0)\n",
      "Requirement already satisfied: pytz>=2020.1 in /opt/conda/lib/python3.12/site-packages (from pandas) (2024.2)\n",
      "Collecting tzdata>=2022.7 (from pandas)\n",
      "  Downloading tzdata-2025.2-py2.py3-none-any.whl.metadata (1.4 kB)\n",
      "Requirement already satisfied: six>=1.5 in /opt/conda/lib/python3.12/site-packages (from python-dateutil>=2.8.2->pandas) (1.17.0)\n",
      "Downloading pandas-2.3.1-cp312-cp312-manylinux_2_17_x86_64.manylinux2014_x86_64.whl (12.0 MB)\n",
      "\u001b[2K   \u001b[90m━━━━━━━━━━━━━━━━━━━━━━━━━━━━━━━━━━━━━━━━\u001b[0m \u001b[32m12.0/12.0 MB\u001b[0m \u001b[31m133.0 MB/s\u001b[0m eta \u001b[36m0:00:00\u001b[0m\n",
      "\u001b[?25hDownloading numpy-2.3.1-cp312-cp312-manylinux_2_28_x86_64.whl (16.6 MB)\n",
      "\u001b[2K   \u001b[90m━━━━━━━━━━━━━━━━━━━━━━━━━━━━━━━━━━━━━━━━\u001b[0m \u001b[32m16.6/16.6 MB\u001b[0m \u001b[31m189.0 MB/s\u001b[0m eta \u001b[36m0:00:00\u001b[0m\n",
      "\u001b[?25hDownloading tzdata-2025.2-py2.py3-none-any.whl (347 kB)\n",
      "Installing collected packages: tzdata, numpy, pandas\n",
      "Successfully installed numpy-2.3.1 pandas-2.3.1 tzdata-2025.2\n",
      "Collecting matplotlib\n",
      "  Downloading matplotlib-3.10.3-cp312-cp312-manylinux_2_17_x86_64.manylinux2014_x86_64.whl.metadata (11 kB)\n",
      "Collecting contourpy>=1.0.1 (from matplotlib)\n",
      "  Downloading contourpy-1.3.2-cp312-cp312-manylinux_2_17_x86_64.manylinux2014_x86_64.whl.metadata (5.5 kB)\n",
      "Collecting cycler>=0.10 (from matplotlib)\n",
      "  Downloading cycler-0.12.1-py3-none-any.whl.metadata (3.8 kB)\n",
      "Collecting fonttools>=4.22.0 (from matplotlib)\n",
      "  Downloading fonttools-4.58.5-cp312-cp312-manylinux1_x86_64.manylinux2014_x86_64.manylinux_2_17_x86_64.manylinux_2_5_x86_64.whl.metadata (106 kB)\n",
      "Collecting kiwisolver>=1.3.1 (from matplotlib)\n",
      "  Downloading kiwisolver-1.4.8-cp312-cp312-manylinux_2_17_x86_64.manylinux2014_x86_64.whl.metadata (6.2 kB)\n",
      "Requirement already satisfied: numpy>=1.23 in /opt/conda/lib/python3.12/site-packages (from matplotlib) (2.3.1)\n",
      "Requirement already satisfied: packaging>=20.0 in /opt/conda/lib/python3.12/site-packages (from matplotlib) (24.2)\n",
      "Collecting pillow>=8 (from matplotlib)\n",
      "  Downloading pillow-11.3.0-cp312-cp312-manylinux_2_27_x86_64.manylinux_2_28_x86_64.whl.metadata (9.0 kB)\n",
      "Collecting pyparsing>=2.3.1 (from matplotlib)\n",
      "  Downloading pyparsing-3.2.3-py3-none-any.whl.metadata (5.0 kB)\n",
      "Requirement already satisfied: python-dateutil>=2.7 in /opt/conda/lib/python3.12/site-packages (from matplotlib) (2.9.0.post0)\n",
      "Requirement already satisfied: six>=1.5 in /opt/conda/lib/python3.12/site-packages (from python-dateutil>=2.7->matplotlib) (1.17.0)\n",
      "Downloading matplotlib-3.10.3-cp312-cp312-manylinux_2_17_x86_64.manylinux2014_x86_64.whl (8.6 MB)\n",
      "\u001b[2K   \u001b[90m━━━━━━━━━━━━━━━━━━━━━━━━━━━━━━━━━━━━━━━━\u001b[0m \u001b[32m8.6/8.6 MB\u001b[0m \u001b[31m130.1 MB/s\u001b[0m eta \u001b[36m0:00:00\u001b[0m\n",
      "Downloading contourpy-1.3.2-cp312-cp312-manylinux_2_17_x86_64.manylinux2014_x86_64.whl (323 kB)\n",
      "Downloading cycler-0.12.1-py3-none-any.whl (8.3 kB)\n",
      "Downloading fonttools-4.58.5-cp312-cp312-manylinux1_x86_64.manylinux2014_x86_64.manylinux_2_17_x86_64.manylinux_2_5_x86_64.whl (4.9 MB)\n",
      "\u001b[2K   \u001b[90m━━━━━━━━━━━━━━━━━━━━━━━━━━━━━━━━━━━━━━━━\u001b[0m \u001b[32m4.9/4.9 MB\u001b[0m \u001b[31m163.8 MB/s\u001b[0m eta \u001b[36m0:00:00\u001b[0m\n",
      "\u001b[?25hDownloading kiwisolver-1.4.8-cp312-cp312-manylinux_2_17_x86_64.manylinux2014_x86_64.whl (1.5 MB)\n",
      "\u001b[2K   \u001b[90m━━━━━━━━━━━━━━━━━━━━━━━━━━━━━━━━━━━━━━━━\u001b[0m \u001b[32m1.5/1.5 MB\u001b[0m \u001b[31m102.5 MB/s\u001b[0m eta \u001b[36m0:00:00\u001b[0m\n",
      "\u001b[?25hDownloading pillow-11.3.0-cp312-cp312-manylinux_2_27_x86_64.manylinux_2_28_x86_64.whl (6.6 MB)\n",
      "\u001b[2K   \u001b[90m━━━━━━━━━━━━━━━━━━━━━━━━━━━━━━━━━━━━━━━━\u001b[0m \u001b[32m6.6/6.6 MB\u001b[0m \u001b[31m143.9 MB/s\u001b[0m eta \u001b[36m0:00:00\u001b[0m\n",
      "\u001b[?25hDownloading pyparsing-3.2.3-py3-none-any.whl (111 kB)\n",
      "Installing collected packages: pyparsing, pillow, kiwisolver, fonttools, cycler, contourpy, matplotlib\n",
      "Successfully installed contourpy-1.3.2 cycler-0.12.1 fonttools-4.58.5 kiwisolver-1.4.8 matplotlib-3.10.3 pillow-11.3.0 pyparsing-3.2.3\n",
      "Collecting seaborn\n",
      "  Downloading seaborn-0.13.2-py3-none-any.whl.metadata (5.4 kB)\n",
      "Requirement already satisfied: numpy!=1.24.0,>=1.20 in /opt/conda/lib/python3.12/site-packages (from seaborn) (2.3.1)\n",
      "Requirement already satisfied: pandas>=1.2 in /opt/conda/lib/python3.12/site-packages (from seaborn) (2.3.1)\n",
      "Requirement already satisfied: matplotlib!=3.6.1,>=3.4 in /opt/conda/lib/python3.12/site-packages (from seaborn) (3.10.3)\n",
      "Requirement already satisfied: contourpy>=1.0.1 in /opt/conda/lib/python3.12/site-packages (from matplotlib!=3.6.1,>=3.4->seaborn) (1.3.2)\n",
      "Requirement already satisfied: cycler>=0.10 in /opt/conda/lib/python3.12/site-packages (from matplotlib!=3.6.1,>=3.4->seaborn) (0.12.1)\n",
      "Requirement already satisfied: fonttools>=4.22.0 in /opt/conda/lib/python3.12/site-packages (from matplotlib!=3.6.1,>=3.4->seaborn) (4.58.5)\n",
      "Requirement already satisfied: kiwisolver>=1.3.1 in /opt/conda/lib/python3.12/site-packages (from matplotlib!=3.6.1,>=3.4->seaborn) (1.4.8)\n",
      "Requirement already satisfied: packaging>=20.0 in /opt/conda/lib/python3.12/site-packages (from matplotlib!=3.6.1,>=3.4->seaborn) (24.2)\n",
      "Requirement already satisfied: pillow>=8 in /opt/conda/lib/python3.12/site-packages (from matplotlib!=3.6.1,>=3.4->seaborn) (11.3.0)\n",
      "Requirement already satisfied: pyparsing>=2.3.1 in /opt/conda/lib/python3.12/site-packages (from matplotlib!=3.6.1,>=3.4->seaborn) (3.2.3)\n",
      "Requirement already satisfied: python-dateutil>=2.7 in /opt/conda/lib/python3.12/site-packages (from matplotlib!=3.6.1,>=3.4->seaborn) (2.9.0.post0)\n",
      "Requirement already satisfied: pytz>=2020.1 in /opt/conda/lib/python3.12/site-packages (from pandas>=1.2->seaborn) (2024.2)\n",
      "Requirement already satisfied: tzdata>=2022.7 in /opt/conda/lib/python3.12/site-packages (from pandas>=1.2->seaborn) (2025.2)\n",
      "Requirement already satisfied: six>=1.5 in /opt/conda/lib/python3.12/site-packages (from python-dateutil>=2.7->matplotlib!=3.6.1,>=3.4->seaborn) (1.17.0)\n",
      "Downloading seaborn-0.13.2-py3-none-any.whl (294 kB)\n",
      "Installing collected packages: seaborn\n",
      "Successfully installed seaborn-0.13.2\n"
     ]
    }
   ],
   "source": [
    "!pip install pandas\n",
    "!pip install matplotlib\n",
    "!pip install seaborn\n"
   ]
  },
  {
   "cell_type": "markdown",
   "metadata": {},
   "source": [
    "### Step 1: Import Libraries and Load Data\n"
   ]
  },
  {
   "cell_type": "markdown",
   "metadata": {},
   "source": [
    "- Import the `pandas`, `matplotlib.pyplot`, and `seaborn` libraries.\n"
   ]
  },
  {
   "cell_type": "markdown",
   "metadata": {},
   "source": [
    "- You will begin with loading the dataset. You can use the pyfetch method if working on JupyterLite. Otherwise, you can use pandas' read_csv() function directly on their local machines or cloud environments.\n"
   ]
  },
  {
   "cell_type": "code",
   "execution_count": 2,
   "metadata": {},
   "outputs": [
    {
     "data": {
      "text/html": [
       "<div>\n",
       "<style scoped>\n",
       "    .dataframe tbody tr th:only-of-type {\n",
       "        vertical-align: middle;\n",
       "    }\n",
       "\n",
       "    .dataframe tbody tr th {\n",
       "        vertical-align: top;\n",
       "    }\n",
       "\n",
       "    .dataframe thead th {\n",
       "        text-align: right;\n",
       "    }\n",
       "</style>\n",
       "<table border=\"1\" class=\"dataframe\">\n",
       "  <thead>\n",
       "    <tr style=\"text-align: right;\">\n",
       "      <th></th>\n",
       "      <th>ResponseId</th>\n",
       "      <th>MainBranch</th>\n",
       "      <th>Age</th>\n",
       "      <th>Employment</th>\n",
       "      <th>RemoteWork</th>\n",
       "      <th>Check</th>\n",
       "      <th>CodingActivities</th>\n",
       "      <th>EdLevel</th>\n",
       "      <th>LearnCode</th>\n",
       "      <th>LearnCodeOnline</th>\n",
       "      <th>...</th>\n",
       "      <th>JobSatPoints_7</th>\n",
       "      <th>JobSatPoints_8</th>\n",
       "      <th>JobSatPoints_9</th>\n",
       "      <th>JobSatPoints_10</th>\n",
       "      <th>JobSatPoints_11</th>\n",
       "      <th>SurveyLength</th>\n",
       "      <th>SurveyEase</th>\n",
       "      <th>ConvertedCompYearly</th>\n",
       "      <th>JobSat</th>\n",
       "      <th>Binned</th>\n",
       "    </tr>\n",
       "  </thead>\n",
       "  <tbody>\n",
       "    <tr>\n",
       "      <th>0</th>\n",
       "      <td>1</td>\n",
       "      <td>I am a developer by profession</td>\n",
       "      <td>Under 18 years old</td>\n",
       "      <td>Employed, full-time</td>\n",
       "      <td>Remote</td>\n",
       "      <td>Apples</td>\n",
       "      <td>Hobby</td>\n",
       "      <td>Primary/elementary school</td>\n",
       "      <td>Books / Physical media</td>\n",
       "      <td>NaN</td>\n",
       "      <td>...</td>\n",
       "      <td>NaN</td>\n",
       "      <td>NaN</td>\n",
       "      <td>NaN</td>\n",
       "      <td>NaN</td>\n",
       "      <td>NaN</td>\n",
       "      <td>NaN</td>\n",
       "      <td>NaN</td>\n",
       "      <td>NaN</td>\n",
       "      <td>6.94</td>\n",
       "      <td>0-5</td>\n",
       "    </tr>\n",
       "    <tr>\n",
       "      <th>1</th>\n",
       "      <td>2</td>\n",
       "      <td>I am a developer by profession</td>\n",
       "      <td>35-44 years old</td>\n",
       "      <td>Employed, full-time</td>\n",
       "      <td>Remote</td>\n",
       "      <td>Apples</td>\n",
       "      <td>Hobby;Contribute to open-source projects;Other...</td>\n",
       "      <td>Bachelor’s degree (B.A., B.S., B.Eng., etc.)</td>\n",
       "      <td>Books / Physical media;Colleague;On the job tr...</td>\n",
       "      <td>Technical documentation;Blogs;Books;Written Tu...</td>\n",
       "      <td>...</td>\n",
       "      <td>0.0</td>\n",
       "      <td>0.0</td>\n",
       "      <td>0.0</td>\n",
       "      <td>0.0</td>\n",
       "      <td>0.0</td>\n",
       "      <td>NaN</td>\n",
       "      <td>NaN</td>\n",
       "      <td>NaN</td>\n",
       "      <td>6.94</td>\n",
       "      <td>10-20</td>\n",
       "    </tr>\n",
       "    <tr>\n",
       "      <th>2</th>\n",
       "      <td>3</td>\n",
       "      <td>I am a developer by profession</td>\n",
       "      <td>45-54 years old</td>\n",
       "      <td>Employed, full-time</td>\n",
       "      <td>Remote</td>\n",
       "      <td>Apples</td>\n",
       "      <td>Hobby;Contribute to open-source projects;Other...</td>\n",
       "      <td>Master’s degree (M.A., M.S., M.Eng., MBA, etc.)</td>\n",
       "      <td>Books / Physical media;Colleague;On the job tr...</td>\n",
       "      <td>Technical documentation;Blogs;Books;Written Tu...</td>\n",
       "      <td>...</td>\n",
       "      <td>NaN</td>\n",
       "      <td>NaN</td>\n",
       "      <td>NaN</td>\n",
       "      <td>NaN</td>\n",
       "      <td>NaN</td>\n",
       "      <td>Appropriate in length</td>\n",
       "      <td>Easy</td>\n",
       "      <td>NaN</td>\n",
       "      <td>6.94</td>\n",
       "      <td>&gt;20</td>\n",
       "    </tr>\n",
       "    <tr>\n",
       "      <th>3</th>\n",
       "      <td>4</td>\n",
       "      <td>I am learning to code</td>\n",
       "      <td>18-24 years old</td>\n",
       "      <td>Student, full-time</td>\n",
       "      <td>Hybrid (some remote, some in-person)</td>\n",
       "      <td>Apples</td>\n",
       "      <td>NaN</td>\n",
       "      <td>Some college/university study without earning ...</td>\n",
       "      <td>Other online resources (e.g., videos, blogs, f...</td>\n",
       "      <td>Stack Overflow;How-to videos;Interactive tutorial</td>\n",
       "      <td>...</td>\n",
       "      <td>NaN</td>\n",
       "      <td>NaN</td>\n",
       "      <td>NaN</td>\n",
       "      <td>NaN</td>\n",
       "      <td>NaN</td>\n",
       "      <td>Too long</td>\n",
       "      <td>Easy</td>\n",
       "      <td>NaN</td>\n",
       "      <td>6.94</td>\n",
       "      <td>0-5</td>\n",
       "    </tr>\n",
       "    <tr>\n",
       "      <th>4</th>\n",
       "      <td>5</td>\n",
       "      <td>I am a developer by profession</td>\n",
       "      <td>18-24 years old</td>\n",
       "      <td>Student, full-time</td>\n",
       "      <td>Hybrid (some remote, some in-person)</td>\n",
       "      <td>Apples</td>\n",
       "      <td>NaN</td>\n",
       "      <td>Secondary school (e.g. American high school, G...</td>\n",
       "      <td>Other online resources (e.g., videos, blogs, f...</td>\n",
       "      <td>Technical documentation;Blogs;Written Tutorial...</td>\n",
       "      <td>...</td>\n",
       "      <td>NaN</td>\n",
       "      <td>NaN</td>\n",
       "      <td>NaN</td>\n",
       "      <td>NaN</td>\n",
       "      <td>NaN</td>\n",
       "      <td>Too short</td>\n",
       "      <td>Easy</td>\n",
       "      <td>NaN</td>\n",
       "      <td>6.94</td>\n",
       "      <td>0-5</td>\n",
       "    </tr>\n",
       "  </tbody>\n",
       "</table>\n",
       "<p>5 rows × 115 columns</p>\n",
       "</div>"
      ],
      "text/plain": [
       "   ResponseId                      MainBranch                 Age  \\\n",
       "0           1  I am a developer by profession  Under 18 years old   \n",
       "1           2  I am a developer by profession     35-44 years old   \n",
       "2           3  I am a developer by profession     45-54 years old   \n",
       "3           4           I am learning to code     18-24 years old   \n",
       "4           5  I am a developer by profession     18-24 years old   \n",
       "\n",
       "            Employment                            RemoteWork   Check  \\\n",
       "0  Employed, full-time                                Remote  Apples   \n",
       "1  Employed, full-time                                Remote  Apples   \n",
       "2  Employed, full-time                                Remote  Apples   \n",
       "3   Student, full-time  Hybrid (some remote, some in-person)  Apples   \n",
       "4   Student, full-time  Hybrid (some remote, some in-person)  Apples   \n",
       "\n",
       "                                    CodingActivities  \\\n",
       "0                                              Hobby   \n",
       "1  Hobby;Contribute to open-source projects;Other...   \n",
       "2  Hobby;Contribute to open-source projects;Other...   \n",
       "3                                                NaN   \n",
       "4                                                NaN   \n",
       "\n",
       "                                             EdLevel  \\\n",
       "0                          Primary/elementary school   \n",
       "1       Bachelor’s degree (B.A., B.S., B.Eng., etc.)   \n",
       "2    Master’s degree (M.A., M.S., M.Eng., MBA, etc.)   \n",
       "3  Some college/university study without earning ...   \n",
       "4  Secondary school (e.g. American high school, G...   \n",
       "\n",
       "                                           LearnCode  \\\n",
       "0                             Books / Physical media   \n",
       "1  Books / Physical media;Colleague;On the job tr...   \n",
       "2  Books / Physical media;Colleague;On the job tr...   \n",
       "3  Other online resources (e.g., videos, blogs, f...   \n",
       "4  Other online resources (e.g., videos, blogs, f...   \n",
       "\n",
       "                                     LearnCodeOnline  ... JobSatPoints_7  \\\n",
       "0                                                NaN  ...            NaN   \n",
       "1  Technical documentation;Blogs;Books;Written Tu...  ...            0.0   \n",
       "2  Technical documentation;Blogs;Books;Written Tu...  ...            NaN   \n",
       "3  Stack Overflow;How-to videos;Interactive tutorial  ...            NaN   \n",
       "4  Technical documentation;Blogs;Written Tutorial...  ...            NaN   \n",
       "\n",
       "  JobSatPoints_8  JobSatPoints_9 JobSatPoints_10 JobSatPoints_11  \\\n",
       "0            NaN             NaN             NaN             NaN   \n",
       "1            0.0             0.0             0.0             0.0   \n",
       "2            NaN             NaN             NaN             NaN   \n",
       "3            NaN             NaN             NaN             NaN   \n",
       "4            NaN             NaN             NaN             NaN   \n",
       "\n",
       "            SurveyLength SurveyEase ConvertedCompYearly JobSat Binned  \n",
       "0                    NaN        NaN                 NaN   6.94    0-5  \n",
       "1                    NaN        NaN                 NaN   6.94  10-20  \n",
       "2  Appropriate in length       Easy                 NaN   6.94    >20  \n",
       "3               Too long       Easy                 NaN   6.94    0-5  \n",
       "4              Too short       Easy                 NaN   6.94    0-5  \n",
       "\n",
       "[5 rows x 115 columns]"
      ]
     },
     "execution_count": 2,
     "metadata": {},
     "output_type": "execute_result"
    }
   ],
   "source": [
    "# Import necessary libraries\n",
    "import pandas as pd\n",
    "import matplotlib.pyplot as plt\n",
    "import seaborn as sns\n",
    "\n",
    "\n",
    "df = pd.read_csv('Modified_Datset.csv')\n",
    "df.drop(columns=['Unnamed: 0'], axis=1, inplace=True)\n",
    "\n",
    "# Display the first few rows of the dataset\n",
    "df.head()\n"
   ]
  },
  {
   "cell_type": "markdown",
   "metadata": {},
   "source": [
    "### Step 2: Examine the Structure of the Data\n"
   ]
  },
  {
   "cell_type": "markdown",
   "metadata": {},
   "source": [
    "- Display the column names, data types, and summary information to understand the data structure.\n",
    "\n",
    "- Objective: Gain insights into the dataset's shape and available variables.\n"
   ]
  },
  {
   "cell_type": "code",
   "execution_count": 7,
   "metadata": {},
   "outputs": [
    {
     "data": {
      "text/plain": [
       "Index(['ResponseId', 'MainBranch', 'Age', 'Employment', 'RemoteWork', 'Check',\n",
       "       'CodingActivities', 'EdLevel', 'LearnCode', 'LearnCodeOnline',\n",
       "       ...\n",
       "       'JobSatPoints_7', 'JobSatPoints_8', 'JobSatPoints_9', 'JobSatPoints_10',\n",
       "       'JobSatPoints_11', 'SurveyLength', 'SurveyEase', 'ConvertedCompYearly',\n",
       "       'JobSat', 'Binned'],\n",
       "      dtype='object', length=115)"
      ]
     },
     "execution_count": 7,
     "metadata": {},
     "output_type": "execute_result"
    }
   ],
   "source": [
    "## Write your code here\n",
    "df.columns"
   ]
  },
  {
   "cell_type": "code",
   "execution_count": 8,
   "metadata": {},
   "outputs": [
    {
     "name": "stdout",
     "output_type": "stream",
     "text": [
      "<class 'pandas.core.frame.DataFrame'>\n",
      "RangeIndex: 65437 entries, 0 to 65436\n",
      "Columns: 115 entries, ResponseId to Binned\n",
      "dtypes: float64(13), int64(2), object(100)\n",
      "memory usage: 57.4+ MB\n"
     ]
    }
   ],
   "source": [
    "df.info()"
   ]
  },
  {
   "cell_type": "code",
   "execution_count": 9,
   "metadata": {},
   "outputs": [
    {
     "data": {
      "text/plain": [
       "(65437, 115)"
      ]
     },
     "execution_count": 9,
     "metadata": {},
     "output_type": "execute_result"
    }
   ],
   "source": [
    "df.shape"
   ]
  },
  {
   "cell_type": "markdown",
   "metadata": {},
   "source": [
    "### Step 3: Handle Missing Data\n"
   ]
  },
  {
   "cell_type": "markdown",
   "metadata": {},
   "source": [
    "- Identify missing values in the dataset.\n",
    "\n",
    "- Impute or remove missing values as necessary to ensure data completeness.\n",
    "\n"
   ]
  },
  {
   "cell_type": "code",
   "execution_count": 3,
   "metadata": {},
   "outputs": [],
   "source": [
    "## Write your code here\n",
    "for col in df.columns:\n",
    "    if df[col].dtype.kind in 'biufc':\n",
    "        df[col] = df[col].fillna(df[col].mean())\n",
    "    else: \n",
    "        df[col] = df[col].fillna(df[col].mode().iloc[0])"
   ]
  },
  {
   "cell_type": "code",
   "execution_count": 4,
   "metadata": {},
   "outputs": [
    {
     "name": "stdout",
     "output_type": "stream",
     "text": [
      "ResponseId\n",
      "0\n",
      "MainBranch\n",
      "0\n",
      "Age\n",
      "0\n",
      "Employment\n",
      "0\n",
      "RemoteWork\n",
      "0\n",
      "Check\n",
      "0\n",
      "CodingActivities\n",
      "0\n",
      "EdLevel\n",
      "0\n",
      "LearnCode\n",
      "0\n",
      "LearnCodeOnline\n",
      "0\n",
      "TechDoc\n",
      "0\n",
      "YearsCode\n",
      "0\n",
      "YearsCodePro\n",
      "0\n",
      "DevType\n",
      "0\n",
      "OrgSize\n",
      "0\n",
      "PurchaseInfluence\n",
      "0\n",
      "BuyNewTool\n",
      "0\n",
      "BuildvsBuy\n",
      "0\n",
      "TechEndorse\n",
      "0\n",
      "Country\n",
      "0\n",
      "Currency\n",
      "0\n",
      "CompTotal\n",
      "0\n",
      "LanguageHaveWorkedWith\n",
      "0\n",
      "LanguageWantToWorkWith\n",
      "0\n",
      "LanguageAdmired\n",
      "0\n",
      "DatabaseHaveWorkedWith\n",
      "0\n",
      "DatabaseWantToWorkWith\n",
      "0\n",
      "DatabaseAdmired\n",
      "0\n",
      "PlatformHaveWorkedWith\n",
      "0\n",
      "PlatformWantToWorkWith\n",
      "0\n",
      "PlatformAdmired\n",
      "0\n",
      "WebframeHaveWorkedWith\n",
      "0\n",
      "WebframeWantToWorkWith\n",
      "0\n",
      "WebframeAdmired\n",
      "0\n",
      "EmbeddedHaveWorkedWith\n",
      "0\n",
      "EmbeddedWantToWorkWith\n",
      "0\n",
      "EmbeddedAdmired\n",
      "0\n",
      "MiscTechHaveWorkedWith\n",
      "0\n",
      "MiscTechWantToWorkWith\n",
      "0\n",
      "MiscTechAdmired\n",
      "0\n",
      "ToolsTechHaveWorkedWith\n",
      "0\n",
      "ToolsTechWantToWorkWith\n",
      "0\n",
      "ToolsTechAdmired\n",
      "0\n",
      "NEWCollabToolsHaveWorkedWith\n",
      "0\n",
      "NEWCollabToolsWantToWorkWith\n",
      "0\n",
      "NEWCollabToolsAdmired\n",
      "0\n",
      "OpSysPersonal use\n",
      "0\n",
      "OpSysProfessional use\n",
      "0\n",
      "OfficeStackAsyncHaveWorkedWith\n",
      "0\n",
      "OfficeStackAsyncWantToWorkWith\n",
      "0\n",
      "OfficeStackAsyncAdmired\n",
      "0\n",
      "OfficeStackSyncHaveWorkedWith\n",
      "0\n",
      "OfficeStackSyncWantToWorkWith\n",
      "0\n",
      "OfficeStackSyncAdmired\n",
      "0\n",
      "AISearchDevHaveWorkedWith\n",
      "0\n",
      "AISearchDevWantToWorkWith\n",
      "0\n",
      "AISearchDevAdmired\n",
      "0\n",
      "NEWSOSites\n",
      "0\n",
      "SOVisitFreq\n",
      "0\n",
      "SOAccount\n",
      "0\n",
      "SOPartFreq\n",
      "0\n",
      "SOHow\n",
      "0\n",
      "SOComm\n",
      "0\n",
      "AISelect\n",
      "0\n",
      "AISent\n",
      "0\n",
      "AIBen\n",
      "0\n",
      "AIAcc\n",
      "0\n",
      "AIComplex\n",
      "0\n",
      "AIToolCurrently Using\n",
      "0\n",
      "AIToolInterested in Using\n",
      "0\n",
      "AIToolNot interested in Using\n",
      "0\n",
      "AINextMuch more integrated\n",
      "0\n",
      "AINextNo change\n",
      "0\n",
      "AINextMore integrated\n",
      "0\n",
      "AINextLess integrated\n",
      "0\n",
      "AINextMuch less integrated\n",
      "0\n",
      "AIThreat\n",
      "0\n",
      "AIEthics\n",
      "0\n",
      "AIChallenges\n",
      "0\n",
      "TBranch\n",
      "0\n",
      "ICorPM\n",
      "0\n",
      "WorkExp\n",
      "0\n",
      "Knowledge_1\n",
      "0\n",
      "Knowledge_2\n",
      "0\n",
      "Knowledge_3\n",
      "0\n",
      "Knowledge_4\n",
      "0\n",
      "Knowledge_5\n",
      "0\n",
      "Knowledge_6\n",
      "0\n",
      "Knowledge_7\n",
      "0\n",
      "Knowledge_8\n",
      "0\n",
      "Knowledge_9\n",
      "0\n",
      "Frequency_1\n",
      "0\n",
      "Frequency_2\n",
      "0\n",
      "Frequency_3\n",
      "0\n",
      "TimeSearching\n",
      "0\n",
      "TimeAnswering\n",
      "0\n",
      "Frustration\n",
      "0\n",
      "ProfessionalTech\n",
      "0\n",
      "ProfessionalCloud\n",
      "0\n",
      "ProfessionalQuestion\n",
      "0\n",
      "Industry\n",
      "0\n",
      "JobSatPoints_1\n",
      "0\n",
      "JobSatPoints_4\n",
      "0\n",
      "JobSatPoints_5\n",
      "0\n",
      "JobSatPoints_6\n",
      "0\n",
      "JobSatPoints_7\n",
      "0\n",
      "JobSatPoints_8\n",
      "0\n",
      "JobSatPoints_9\n",
      "0\n",
      "JobSatPoints_10\n",
      "0\n",
      "JobSatPoints_11\n",
      "0\n",
      "SurveyLength\n",
      "0\n",
      "SurveyEase\n",
      "0\n",
      "ConvertedCompYearly\n",
      "0\n",
      "JobSat\n",
      "0\n",
      "Binned\n",
      "0\n"
     ]
    }
   ],
   "source": [
    "for col in df.columns:\n",
    "    print(col) \n",
    "    print(df[col].isna().sum())"
   ]
  },
  {
   "cell_type": "code",
   "execution_count": 5,
   "metadata": {},
   "outputs": [
    {
     "data": {
      "text/html": [
       "<div>\n",
       "<style scoped>\n",
       "    .dataframe tbody tr th:only-of-type {\n",
       "        vertical-align: middle;\n",
       "    }\n",
       "\n",
       "    .dataframe tbody tr th {\n",
       "        vertical-align: top;\n",
       "    }\n",
       "\n",
       "    .dataframe thead th {\n",
       "        text-align: right;\n",
       "    }\n",
       "</style>\n",
       "<table border=\"1\" class=\"dataframe\">\n",
       "  <thead>\n",
       "    <tr style=\"text-align: right;\">\n",
       "      <th></th>\n",
       "      <th>ResponseId</th>\n",
       "      <th>MainBranch</th>\n",
       "      <th>Age</th>\n",
       "      <th>Employment</th>\n",
       "      <th>RemoteWork</th>\n",
       "      <th>Check</th>\n",
       "      <th>CodingActivities</th>\n",
       "      <th>EdLevel</th>\n",
       "      <th>LearnCode</th>\n",
       "      <th>LearnCodeOnline</th>\n",
       "      <th>...</th>\n",
       "      <th>JobSatPoints_7</th>\n",
       "      <th>JobSatPoints_8</th>\n",
       "      <th>JobSatPoints_9</th>\n",
       "      <th>JobSatPoints_10</th>\n",
       "      <th>JobSatPoints_11</th>\n",
       "      <th>SurveyLength</th>\n",
       "      <th>SurveyEase</th>\n",
       "      <th>ConvertedCompYearly</th>\n",
       "      <th>JobSat</th>\n",
       "      <th>Binned</th>\n",
       "    </tr>\n",
       "  </thead>\n",
       "  <tbody>\n",
       "    <tr>\n",
       "      <th>0</th>\n",
       "      <td>1</td>\n",
       "      <td>I am a developer by profession</td>\n",
       "      <td>Under 18 years old</td>\n",
       "      <td>Employed, full-time</td>\n",
       "      <td>Remote</td>\n",
       "      <td>Apples</td>\n",
       "      <td>Hobby</td>\n",
       "      <td>Primary/elementary school</td>\n",
       "      <td>Books / Physical media</td>\n",
       "      <td>Technical documentation;Blogs;Written Tutorial...</td>\n",
       "      <td>...</td>\n",
       "      <td>22.96522</td>\n",
       "      <td>20.278165</td>\n",
       "      <td>16.169432</td>\n",
       "      <td>10.955713</td>\n",
       "      <td>9.953948</td>\n",
       "      <td>Appropriate in length</td>\n",
       "      <td>Easy</td>\n",
       "      <td>86155.287263</td>\n",
       "      <td>6.94</td>\n",
       "      <td>0-5</td>\n",
       "    </tr>\n",
       "    <tr>\n",
       "      <th>1</th>\n",
       "      <td>2</td>\n",
       "      <td>I am a developer by profession</td>\n",
       "      <td>35-44 years old</td>\n",
       "      <td>Employed, full-time</td>\n",
       "      <td>Remote</td>\n",
       "      <td>Apples</td>\n",
       "      <td>Hobby;Contribute to open-source projects;Other...</td>\n",
       "      <td>Bachelor’s degree (B.A., B.S., B.Eng., etc.)</td>\n",
       "      <td>Books / Physical media;Colleague;On the job tr...</td>\n",
       "      <td>Technical documentation;Blogs;Books;Written Tu...</td>\n",
       "      <td>...</td>\n",
       "      <td>0.00000</td>\n",
       "      <td>0.000000</td>\n",
       "      <td>0.000000</td>\n",
       "      <td>0.000000</td>\n",
       "      <td>0.000000</td>\n",
       "      <td>Appropriate in length</td>\n",
       "      <td>Easy</td>\n",
       "      <td>86155.287263</td>\n",
       "      <td>6.94</td>\n",
       "      <td>10-20</td>\n",
       "    </tr>\n",
       "    <tr>\n",
       "      <th>2</th>\n",
       "      <td>3</td>\n",
       "      <td>I am a developer by profession</td>\n",
       "      <td>45-54 years old</td>\n",
       "      <td>Employed, full-time</td>\n",
       "      <td>Remote</td>\n",
       "      <td>Apples</td>\n",
       "      <td>Hobby;Contribute to open-source projects;Other...</td>\n",
       "      <td>Master’s degree (M.A., M.S., M.Eng., MBA, etc.)</td>\n",
       "      <td>Books / Physical media;Colleague;On the job tr...</td>\n",
       "      <td>Technical documentation;Blogs;Books;Written Tu...</td>\n",
       "      <td>...</td>\n",
       "      <td>22.96522</td>\n",
       "      <td>20.278165</td>\n",
       "      <td>16.169432</td>\n",
       "      <td>10.955713</td>\n",
       "      <td>9.953948</td>\n",
       "      <td>Appropriate in length</td>\n",
       "      <td>Easy</td>\n",
       "      <td>86155.287263</td>\n",
       "      <td>6.94</td>\n",
       "      <td>&gt;20</td>\n",
       "    </tr>\n",
       "    <tr>\n",
       "      <th>3</th>\n",
       "      <td>4</td>\n",
       "      <td>I am learning to code</td>\n",
       "      <td>18-24 years old</td>\n",
       "      <td>Student, full-time</td>\n",
       "      <td>Hybrid (some remote, some in-person)</td>\n",
       "      <td>Apples</td>\n",
       "      <td>Hobby</td>\n",
       "      <td>Some college/university study without earning ...</td>\n",
       "      <td>Other online resources (e.g., videos, blogs, f...</td>\n",
       "      <td>Stack Overflow;How-to videos;Interactive tutorial</td>\n",
       "      <td>...</td>\n",
       "      <td>22.96522</td>\n",
       "      <td>20.278165</td>\n",
       "      <td>16.169432</td>\n",
       "      <td>10.955713</td>\n",
       "      <td>9.953948</td>\n",
       "      <td>Too long</td>\n",
       "      <td>Easy</td>\n",
       "      <td>86155.287263</td>\n",
       "      <td>6.94</td>\n",
       "      <td>0-5</td>\n",
       "    </tr>\n",
       "    <tr>\n",
       "      <th>4</th>\n",
       "      <td>5</td>\n",
       "      <td>I am a developer by profession</td>\n",
       "      <td>18-24 years old</td>\n",
       "      <td>Student, full-time</td>\n",
       "      <td>Hybrid (some remote, some in-person)</td>\n",
       "      <td>Apples</td>\n",
       "      <td>Hobby</td>\n",
       "      <td>Secondary school (e.g. American high school, G...</td>\n",
       "      <td>Other online resources (e.g., videos, blogs, f...</td>\n",
       "      <td>Technical documentation;Blogs;Written Tutorial...</td>\n",
       "      <td>...</td>\n",
       "      <td>22.96522</td>\n",
       "      <td>20.278165</td>\n",
       "      <td>16.169432</td>\n",
       "      <td>10.955713</td>\n",
       "      <td>9.953948</td>\n",
       "      <td>Too short</td>\n",
       "      <td>Easy</td>\n",
       "      <td>86155.287263</td>\n",
       "      <td>6.94</td>\n",
       "      <td>0-5</td>\n",
       "    </tr>\n",
       "  </tbody>\n",
       "</table>\n",
       "<p>5 rows × 115 columns</p>\n",
       "</div>"
      ],
      "text/plain": [
       "   ResponseId                      MainBranch                 Age  \\\n",
       "0           1  I am a developer by profession  Under 18 years old   \n",
       "1           2  I am a developer by profession     35-44 years old   \n",
       "2           3  I am a developer by profession     45-54 years old   \n",
       "3           4           I am learning to code     18-24 years old   \n",
       "4           5  I am a developer by profession     18-24 years old   \n",
       "\n",
       "            Employment                            RemoteWork   Check  \\\n",
       "0  Employed, full-time                                Remote  Apples   \n",
       "1  Employed, full-time                                Remote  Apples   \n",
       "2  Employed, full-time                                Remote  Apples   \n",
       "3   Student, full-time  Hybrid (some remote, some in-person)  Apples   \n",
       "4   Student, full-time  Hybrid (some remote, some in-person)  Apples   \n",
       "\n",
       "                                    CodingActivities  \\\n",
       "0                                              Hobby   \n",
       "1  Hobby;Contribute to open-source projects;Other...   \n",
       "2  Hobby;Contribute to open-source projects;Other...   \n",
       "3                                              Hobby   \n",
       "4                                              Hobby   \n",
       "\n",
       "                                             EdLevel  \\\n",
       "0                          Primary/elementary school   \n",
       "1       Bachelor’s degree (B.A., B.S., B.Eng., etc.)   \n",
       "2    Master’s degree (M.A., M.S., M.Eng., MBA, etc.)   \n",
       "3  Some college/university study without earning ...   \n",
       "4  Secondary school (e.g. American high school, G...   \n",
       "\n",
       "                                           LearnCode  \\\n",
       "0                             Books / Physical media   \n",
       "1  Books / Physical media;Colleague;On the job tr...   \n",
       "2  Books / Physical media;Colleague;On the job tr...   \n",
       "3  Other online resources (e.g., videos, blogs, f...   \n",
       "4  Other online resources (e.g., videos, blogs, f...   \n",
       "\n",
       "                                     LearnCodeOnline  ... JobSatPoints_7  \\\n",
       "0  Technical documentation;Blogs;Written Tutorial...  ...       22.96522   \n",
       "1  Technical documentation;Blogs;Books;Written Tu...  ...        0.00000   \n",
       "2  Technical documentation;Blogs;Books;Written Tu...  ...       22.96522   \n",
       "3  Stack Overflow;How-to videos;Interactive tutorial  ...       22.96522   \n",
       "4  Technical documentation;Blogs;Written Tutorial...  ...       22.96522   \n",
       "\n",
       "  JobSatPoints_8  JobSatPoints_9 JobSatPoints_10 JobSatPoints_11  \\\n",
       "0      20.278165       16.169432       10.955713        9.953948   \n",
       "1       0.000000        0.000000        0.000000        0.000000   \n",
       "2      20.278165       16.169432       10.955713        9.953948   \n",
       "3      20.278165       16.169432       10.955713        9.953948   \n",
       "4      20.278165       16.169432       10.955713        9.953948   \n",
       "\n",
       "            SurveyLength SurveyEase ConvertedCompYearly JobSat Binned  \n",
       "0  Appropriate in length       Easy        86155.287263   6.94    0-5  \n",
       "1  Appropriate in length       Easy        86155.287263   6.94  10-20  \n",
       "2  Appropriate in length       Easy        86155.287263   6.94    >20  \n",
       "3               Too long       Easy        86155.287263   6.94    0-5  \n",
       "4              Too short       Easy        86155.287263   6.94    0-5  \n",
       "\n",
       "[5 rows x 115 columns]"
      ]
     },
     "execution_count": 5,
     "metadata": {},
     "output_type": "execute_result"
    }
   ],
   "source": [
    "df.head()"
   ]
  },
  {
   "cell_type": "markdown",
   "metadata": {},
   "source": [
    "### Step 4: Analyze Key Columns\n"
   ]
  },
  {
   "cell_type": "markdown",
   "metadata": {},
   "source": [
    "- Examine key columns such as `Employment`, `JobSat` (Job Satisfaction), and `YearsCodePro` (Professional Coding Experience).\n",
    "\n",
    "- **Instruction**: Calculate the value counts for each column to understand the distribution of responses.\n",
    "\n"
   ]
  },
  {
   "cell_type": "code",
   "execution_count": 6,
   "metadata": {},
   "outputs": [],
   "source": [
    "## Write your code here\n",
    "df['Employment'] = df['Employment'].apply(lambda x: 'Employed' if x.startswith('Employed') else x)\n",
    "df['Employment'] = df['Employment'].apply(lambda x: 'Not employed' if x.startswith('Not employed') else x)\n",
    "df['Employment'] = df['Employment'].apply(lambda x: 'Student' if x.startswith('Student') else x)\n",
    "df['Employment'] = df['Employment'].apply(lambda x: 'Independent contractor' if x.startswith('Independent contractor') else x)"
   ]
  },
  {
   "cell_type": "code",
   "execution_count": 7,
   "metadata": {},
   "outputs": [
    {
     "data": {
      "text/plain": [
       "Employment\n",
       "Employed                  46436\n",
       "Student                    8611\n",
       "Independent contractor     5574\n",
       "Not employed               3745\n",
       "I prefer not to say         546\n",
       "Retired                     525\n",
       "Name: count, dtype: int64"
      ]
     },
     "execution_count": 7,
     "metadata": {},
     "output_type": "execute_result"
    }
   ],
   "source": [
    "## Write your code here\n",
    "df['Employment'].value_counts()"
   ]
  },
  {
   "cell_type": "code",
   "execution_count": 8,
   "metadata": {},
   "outputs": [
    {
     "data": {
      "text/plain": [
       "JobSat\n",
       "6.94     36311\n",
       "8.00      7509\n",
       "7.00      6379\n",
       "6.00      3751\n",
       "9.00      3626\n",
       "10.00     2251\n",
       "5.00      1956\n",
       "3.00      1165\n",
       "4.00      1130\n",
       "2.00       772\n",
       "0.00       311\n",
       "1.00       276\n",
       "Name: count, dtype: int64"
      ]
     },
     "execution_count": 8,
     "metadata": {},
     "output_type": "execute_result"
    }
   ],
   "source": [
    "df['JobSat'].value_counts()"
   ]
  },
  {
   "cell_type": "code",
   "execution_count": 9,
   "metadata": {},
   "outputs": [
    {
     "data": {
      "text/plain": [
       "YearsCodePro\n",
       "0     16683\n",
       "2      4168\n",
       "3      4093\n",
       "5      3526\n",
       "10     3251\n",
       "4      3215\n",
       "6      2843\n",
       "1      2639\n",
       "8      2549\n",
       "7      2517\n",
       "12     1777\n",
       "15     1635\n",
       "20     1549\n",
       "9      1493\n",
       "11     1312\n",
       "13     1127\n",
       "14     1082\n",
       "25      998\n",
       "16      946\n",
       "18      867\n",
       "17      814\n",
       "30      689\n",
       "24      632\n",
       "19      516\n",
       "22      492\n",
       "23      448\n",
       "26      426\n",
       "27      380\n",
       "21      380\n",
       "28      342\n",
       "35      285\n",
       "29      196\n",
       "40      194\n",
       "32      194\n",
       "34      169\n",
       "38      134\n",
       "33      132\n",
       "36      119\n",
       "31      106\n",
       "37      104\n",
       "45       56\n",
       "42       55\n",
       "39       54\n",
       "41       51\n",
       "51       50\n",
       "44       42\n",
       "43       37\n",
       "46       21\n",
       "50       14\n",
       "48       14\n",
       "49       11\n",
       "47       10\n",
       "Name: count, dtype: int64"
      ]
     },
     "execution_count": 9,
     "metadata": {},
     "output_type": "execute_result"
    }
   ],
   "source": [
    "df['YearsCodePro'].value_counts()"
   ]
  },
  {
   "cell_type": "markdown",
   "metadata": {},
   "source": [
    "### Step 5: Visualize Job Satisfaction (Focus on JobSat)\n"
   ]
  },
  {
   "cell_type": "markdown",
   "metadata": {},
   "source": [
    "- Create a pie chart or KDE plot to visualize the distribution of `JobSat`.\n",
    "\n",
    "- Provide an interpretation of the plot, highlighting key trends in job satisfaction.\n"
   ]
  },
  {
   "cell_type": "code",
   "execution_count": 35,
   "metadata": {},
   "outputs": [
    {
     "data": {
      "image/png": "[encoded data removed]",
      "text/plain": [
       "<Figure size 640x480 with 1 Axes>"
      ]
     },
     "metadata": {},
     "output_type": "display_data"
    }
   ],
   "source": [
    "## Write your code here\n",
    "sns.kdeplot(data=df, x='JobSat') \n",
    "plt.title('Distribution of Job Satisfaction')\n",
    "plt.show()"
   ]
  },
  {
   "cell_type": "markdown",
   "metadata": {},
   "source": [
    "### Step 6: Programming Languages Analysis\n"
   ]
  },
  {
   "cell_type": "markdown",
   "metadata": {},
   "source": [
    "- Compare the frequency of programming languages in `LanguageHaveWorkedWith` and `LanguageWantToWorkWith`.\n",
    "  \n",
    "- Visualize the overlap or differences using a Venn diagram or a grouped bar chart.\n"
   ]
  },
  {
   "cell_type": "code",
   "execution_count": 12,
   "metadata": {},
   "outputs": [
    {
     "name": "stdout",
     "output_type": "stream",
     "text": [
      "Collecting matplotlib_venn\n",
      "  Downloading matplotlib-venn-1.1.2.tar.gz (40 kB)\n",
      "  Installing build dependencies ... \u001b[?2done\n",
      "\u001b[?25h  Getting requirements to build wheel ... \u001b[?25ldone\n",
      "\u001b[?25h  Preparing metadata (pyproject.toml) ... \u001b[?25ldone\n",
      "\u001b[?25hRequirement already satisfied: matplotlib in /opt/conda/lib/python3.12/site-packages (from matplotlib_venn) (3.10.3)\n",
      "Requirement already satisfied: numpy in /opt/conda/lib/python3.12/site-packages (from matplotlib_venn) (2.3.1)\n",
      "Collecting scipy (from matplotlib_venn)\n",
      "  Downloading scipy-1.16.0-cp312-cp312-manylinux2014_x86_64.manylinux_2_17_x86_64.whl.metadata (61 kB)\n",
      "Requirement already satisfied: contourpy>=1.0.1 in /opt/conda/lib/python3.12/site-packages (from matplotlib->matplotlib_venn) (1.3.2)\n",
      "Requirement already satisfied: cycler>=0.10 in /opt/conda/lib/python3.12/site-packages (from matplotlib->matplotlib_venn) (0.12.1)\n",
      "Requirement already satisfied: fonttools>=4.22.0 in /opt/conda/lib/python3.12/site-packages (from matplotlib->matplotlib_venn) (4.58.5)\n",
      "Requirement already satisfied: kiwisolver>=1.3.1 in /opt/conda/lib/python3.12/site-packages (from matplotlib->matplotlib_venn) (1.4.8)\n",
      "Requirement already satisfied: packaging>=20.0 in /opt/conda/lib/python3.12/site-packages (from matplotlib->matplotlib_venn) (24.2)\n",
      "Requirement already satisfied: pillow>=8 in /opt/conda/lib/python3.12/site-packages (from matplotlib->matplotlib_venn) (11.3.0)\n",
      "Requirement already satisfied: pyparsing>=2.3.1 in /opt/conda/lib/python3.12/site-packages (from matplotlib->matplotlib_venn) (3.2.3)\n",
      "Requirement already satisfied: python-dateutil>=2.7 in /opt/conda/lib/python3.12/site-packages (from matplotlib->matplotlib_venn) (2.9.0.post0)\n",
      "Requirement already satisfied: six>=1.5 in /opt/conda/lib/python3.12/site-packages (from python-dateutil>=2.7->matplotlib->matplotlib_venn) (1.17.0)\n",
      "Downloading scipy-1.16.0-cp312-cp312-manylinux2014_x86_64.manylinux_2_17_x86_64.whl (35.1 MB)\n",
      "\u001b[2K   \u001b[90m━━━━━━━━━━━━━━━━━━━━━━━━━━━━━━━━━━━━━━━━\u001b[0m \u001b[32m35.1/35.1 MB\u001b[0m \u001b[31m174.8 MB/s\u001b[0m eta \u001b[36m0:00:00\u001b[0m00:01\u001b[0m\n",
      "Building wheels for collected packages: matplotlib_venn\n",
      "  Building wheel for matplotlib_venn (pyproject.toml) ... \u001b[?25ldone\n",
      "\u001b[?25h  Created wheel for matplotlib_venn: filename=matplotlib_venn-1.1.2-py3-none-any.whl size=45388 sha256=5028326f744c9259479f7f8b8b5cf6e72d41224715031d21157c03e58c1046d4\n",
      "  Stored in directory: /home/jupyterlab/.cache/pip/wheels/c2/47/0c/f014c55a1cfd56dce41a1cafd23e3c590652b5e71330cc181c\n",
      "Successfully built matplotlib_venn\n",
      "Installing collected packages: scipy, matplotlib_venn\n",
      "Successfully installed matplotlib_venn-1.1.2 scipy-1.16.0\n",
      "Note: you may need to restart the kernel to use updated packages.\n"
     ]
    }
   ],
   "source": [
    "pip install matplotlib_venn"
   ]
  },
  {
   "cell_type": "code",
   "execution_count": 13,
   "metadata": {},
   "outputs": [],
   "source": [
    "from matplotlib_venn import venn2"
   ]
  },
  {
   "cell_type": "code",
   "execution_count": 34,
   "metadata": {},
   "outputs": [
    {
     "data": {
      "image/png": "[encoded data removed]",
      "text/plain": [
       "<Figure size 400x400 with 1 Axes>"
      ]
     },
     "metadata": {},
     "output_type": "display_data"
    }
   ],
   "source": [
    "plt.figure(figsize=(4,4))\n",
    "set1 = set(df['LanguageHaveWorkedWith'])\n",
    "set2 = set(df['LanguageWantToWorkWith'])\n",
    "\n",
    "venn2([set1, set2], ('LanguageHaveWorkedWith', 'LanguageWantToWorkWith'))\n",
    "plt.title('Frequency of Languages have worked with and Languaged want to work with')\n",
    "plt.show()"
   ]
  },
  {
   "cell_type": "markdown",
   "metadata": {},
   "source": [
    "### Step 7: Analyze Remote Work Trends\n"
   ]
  },
  {
   "cell_type": "markdown",
   "metadata": {},
   "source": [
    "- Visualize the distribution of RemoteWork by region using a grouped bar chart or heatmap.\n"
   ]
  },
  {
   "cell_type": "code",
   "execution_count": 27,
   "metadata": {},
   "outputs": [
    {
     "data": {
      "text/plain": [
       "array(['United States of America', 'UK and Ireland', 'Canada', 'Norway',\n",
       "       'Uzbekistan', 'Serbia', 'Poland', 'Philippines', 'Bulgaria',\n",
       "       'Switzerland', 'India', 'Germany', 'Ireland', 'Italy', 'Ukraine',\n",
       "       'Australia', 'Brazil', 'Japan', 'Austria', 'Iran', 'France',\n",
       "       'Saudi Arabia', 'Romania', 'Turkey', 'Nepal', 'Algeria', 'Sweden',\n",
       "       'Netherlands', 'Croatia', 'Pakistan', 'Czech Republic',\n",
       "       'Republic of North Macedonia', 'Finland', 'Slovakia',\n",
       "       'Russian Federation', 'Greece', 'Israel', 'Belgium', 'Mexico',\n",
       "       'United Republic of Tanzania', 'Hungary', 'Argentina', 'Portugal',\n",
       "       'Sri Lanka', 'Latvia', 'China', 'Singapore', 'Lebanon', 'Spain',\n",
       "       'South Africa', 'Lithuania', 'Viet Nam', 'Dominican Republic',\n",
       "       'Indonesia', 'Kosovo', 'Morocco', 'Taiwan', 'Georgia',\n",
       "       'San Marino', 'Tunisia', 'Bangladesh', 'Nigeria', 'Liechtenstein',\n",
       "       'Denmark', 'Ecuador', 'Malaysia', 'Albania', 'Azerbaijan', 'Chile',\n",
       "       'Ghana', 'Peru', 'Bolivia', 'Egypt', 'Luxembourg', 'Montenegro',\n",
       "       'Cyprus', 'Paraguay', 'Kazakhstan', 'Slovenia', 'Jordan',\n",
       "       'Venezuela', 'Costa Rica', 'Jamaica', 'Thailand', 'Nicaragua',\n",
       "       'Myanmar', 'Republic of Korea', 'Rwanda', 'Bosnia and Herzegovina',\n",
       "       'Benin', 'El Salvador', 'Zimbabwe', 'Afghanistan', 'Estonia',\n",
       "       'Malta', 'Uruguay', 'Belarus', 'Colombia', 'Republic of Moldova',\n",
       "       'Isle of Man', 'Nomadic', 'New Zealand', 'Palestine', 'Armenia',\n",
       "       'United Arab Emirates', 'Maldives', 'Ethiopia', 'Fiji',\n",
       "       'Guatemala', 'Uganda', 'Turkmenistan', 'Mauritius', 'Kenya',\n",
       "       'Cuba', 'Gabon', 'Bahamas', 'South Korea', 'Iceland', 'Honduras',\n",
       "       'Hong Kong (S.A.R.)', \"Lao People's Democratic Republic\",\n",
       "       'Mongolia', 'Cambodia', 'Madagascar', 'Angola',\n",
       "       'Democratic Republic of the Congo', 'Syrian Arab Republic', 'Iraq',\n",
       "       'Namibia', 'Senegal', 'Kyrgyzstan', 'Zambia', 'Swaziland',\n",
       "       \"Côte d'Ivoire\", 'Kuwait', 'Tajikistan', 'Burundi',\n",
       "       'Trinidad and Tobago', 'Mauritania', 'Sierra Leone', 'Panama',\n",
       "       'Somalia', 'North Korea', 'Dominica', 'Guyana', 'Togo', 'Oman',\n",
       "       'Barbados', 'Andorra', 'Korea', 'Qatar', 'Sudan', 'Cameroon',\n",
       "       'Papua New Guinea', 'Bahrain', 'Yemen', 'Malawi', 'Burkina Faso',\n",
       "       'Congo', 'Botswana', 'Guinea-Bissau', 'Mozambique',\n",
       "       'Central African Republic', 'Equatorial Guinea', 'Suriname',\n",
       "       'Belize', 'Libyan Arab Jamahiriya', 'Cape Verde',\n",
       "       'Brunei Darussalam', 'Bhutan', 'Guinea', 'Niger',\n",
       "       'Antigua and Barbuda', 'Mali', 'Samoa', 'Lesotho',\n",
       "       'Saint Kitts and Nevis', 'Monaco', 'Micronesia', 'Haiti', 'Nauru',\n",
       "       'Liberia', 'Chad', 'Djibouti', 'Solomon Islands'], dtype=object)"
      ]
     },
     "execution_count": 27,
     "metadata": {},
     "output_type": "execute_result"
    }
   ],
   "source": [
    "df['Country'] = df['Country'].replace({'United Kingdom of Great Britain and Northern Ireland': 'UK and Ireland', 'Iran, Islamic Republic of...':'Iran', \n",
    "                       'Venezuela, Bolivarian Republic of...':'Venezuela',\"Democratic People's Republic of Korea\":'Korea', 'Congo, Republic of the...':'Congo', \n",
    "                       'Micronesia, Federated States of...': 'Micronesia'})  \n",
    "df['Country'].unique()"
   ]
  },
  {
   "cell_type": "code",
   "execution_count": 33,
   "metadata": {},
   "outputs": [
    {
     "data": {
      "image/png": "[encoded data removed]",
      "text/plain": [
       "<Figure size 1000x600 with 2 Axes>"
      ]
     },
     "metadata": {},
     "output_type": "display_data"
    }
   ],
   "source": [
    "## Write your code here\n",
    "plt.figure(figsize=(10,6)) \n",
    "heatmap = pd.crosstab(df['RemoteWork'], df['Country']) \n",
    "sns.heatmap(heatmap, cmap='Blues') \n",
    "plt.title('Distribution of RemoteWork by region')\n",
    "plt.show()"
   ]
  },
  {
   "cell_type": "markdown",
   "metadata": {},
   "source": [
    "### Step 8: Correlation between Job Satisfaction and Experience\n"
   ]
  },
  {
   "cell_type": "markdown",
   "metadata": {},
   "source": [
    "- Analyze the correlation between overall job satisfaction (`JobSat`) and `YearsCodePro`.\n",
    "  \n",
    "- Calculate the Pearson or Spearman correlation coefficient.\n"
   ]
  },
  {
   "cell_type": "code",
   "execution_count": 17,
   "metadata": {},
   "outputs": [
    {
     "data": {
      "text/html": [
       "<div>\n",
       "<style scoped>\n",
       "    .dataframe tbody tr th:only-of-type {\n",
       "        vertical-align: middle;\n",
       "    }\n",
       "\n",
       "    .dataframe tbody tr th {\n",
       "        vertical-align: top;\n",
       "    }\n",
       "\n",
       "    .dataframe thead th {\n",
       "        text-align: right;\n",
       "    }\n",
       "</style>\n",
       "<table border=\"1\" class=\"dataframe\">\n",
       "  <thead>\n",
       "    <tr style=\"text-align: right;\">\n",
       "      <th></th>\n",
       "      <th>JobSat</th>\n",
       "      <th>YearsCodePro</th>\n",
       "    </tr>\n",
       "  </thead>\n",
       "  <tbody>\n",
       "    <tr>\n",
       "      <th>JobSat</th>\n",
       "      <td>1.000000</td>\n",
       "      <td>0.067651</td>\n",
       "    </tr>\n",
       "    <tr>\n",
       "      <th>YearsCodePro</th>\n",
       "      <td>0.067651</td>\n",
       "      <td>1.000000</td>\n",
       "    </tr>\n",
       "  </tbody>\n",
       "</table>\n",
       "</div>"
      ],
      "text/plain": [
       "                JobSat  YearsCodePro\n",
       "JobSat        1.000000      0.067651\n",
       "YearsCodePro  0.067651      1.000000"
      ]
     },
     "execution_count": 17,
     "metadata": {},
     "output_type": "execute_result"
    }
   ],
   "source": [
    "## Write your code here\n",
    "df[['JobSat', 'YearsCodePro']].corr()"
   ]
  },
  {
   "cell_type": "code",
   "execution_count": 25,
   "metadata": {},
   "outputs": [],
   "source": [
    "import scipy.stats as stats"
   ]
  },
  {
   "cell_type": "code",
   "execution_count": 26,
   "metadata": {},
   "outputs": [
    {
     "name": "stdout",
     "output_type": "stream",
     "text": [
      "Pearson coefficient is 0.06765060039241155 and P value is 3.047682706208658e-67\n"
     ]
    }
   ],
   "source": [
    "p_coef , p_value = stats.pearsonr(df['JobSat'], df['YearsCodePro']) \n",
    "print(f\"Pearson coefficient is {p_coef} and P value is {p_value}\")"
   ]
  },
  {
   "cell_type": "markdown",
   "metadata": {},
   "source": [
    "### Step 9: Cross-tabulation Analysis (Employment vs. Education Level)\n"
   ]
  },
  {
   "cell_type": "markdown",
   "metadata": {},
   "source": [
    "- Analyze the relationship between employment status (`Employment`) and education level (`EdLevel`).\n",
    "\n",
    "- **Instruction**: Create a cross-tabulation using `pd.crosstab()` and visualize it with a stacked bar plot if possible.\n"
   ]
  },
  {
   "cell_type": "code",
   "execution_count": 32,
   "metadata": {},
   "outputs": [
    {
     "data": {
      "image/png": "[encoded data removed]",
      "text/plain": [
       "<Figure size 640x480 with 1 Axes>"
      ]
     },
     "metadata": {},
     "output_type": "display_data"
    }
   ],
   "source": [
    "## Write your code here\n",
    "stack = pd.crosstab(df['Employment'], df['EdLevel']) \n",
    "stack.plot(kind='bar', stacked=True) \n",
    "plt.title('Relation between Employent and EdLevel')\n",
    "plt.legend(bbox_to_anchor = (1.1,1.05))\n",
    "plt.show()"
   ]
  },
  {
   "cell_type": "markdown",
   "metadata": {},
   "source": [
    "### Step 10: Export Cleaned Data\n"
   ]
  },
  {
   "cell_type": "markdown",
   "metadata": {},
   "source": [
    "- Save the cleaned dataset to a new CSV file for further use or sharing.\n"
   ]
  },
  {
   "cell_type": "code",
   "execution_count": 36,
   "metadata": {},
   "outputs": [],
   "source": [
    "## Write your code here\n",
    "df.to_csv('Cleaned_survey_dataset.csv')"
   ]
  },
  {
   "cell_type": "markdown",
   "metadata": {},
   "source": [
    "### Summary:\n"
   ]
  },
  {
   "cell_type": "markdown",
   "metadata": {},
   "source": [
    "In this lab, you practiced key skills in exploratory data analysis, including:\n"
   ]
  },
  {
   "cell_type": "markdown",
   "metadata": {},
   "source": [
    "- Examining the structure and content of the Stack Overflow survey dataset to understand its variables and data types.\n",
    "\n",
    "- Identifying and addressing missing data to ensure the dataset's quality and completeness.\n",
    "\n",
    "- Summarizing and visualizing key variables such as job satisfaction, programming languages, and remote work trends.\n",
    "\n",
    "- Analyzing relationships in the data using techniques like:\n",
    "    - Comparing programming languages respondents have worked with versus those they want to work with.\n",
    "      \n",
    "    - Exploring remote work preferences by region.\n",
    "\n",
    "- Investigating correlations between professional coding experience and job satisfaction.\n",
    "\n",
    "- Performing cross-tabulations to analyze relationships between employment status and education levels.\n"
   ]
  },
  {
   "cell_type": "markdown",
   "metadata": {},
   "source": [
    "## Authors:\n",
    "Ayushi Jain\n"
   ]
  },
  {
   "cell_type": "markdown",
   "metadata": {},
   "source": [
    "### Other Contributors:\n",
    "Rav Ahuja\n",
    "Lakshmi Holla\n",
    "Malika\n"
   ]
  },
  {
   "cell_type": "markdown",
   "metadata": {},
   "source": [
    "Copyright © IBM Corporation. All rights reserved.\n"
   ]
  }
 ],
 "metadata": {
  "kernelspec": {
   "display_name": "Python 3 (ipykernel)",
   "language": "python",
   "name": "python3"
  },
  "language_info": {
   "codemirror_mode": {
    "name": "ipython",
    "version": 3
   },
   "file_extension": ".py",
   "mimetype": "text/x-python",
   "name": "python",
   "nbconvert_exporter": "python",
   "pygments_lexer": "ipython3",
   "version": "3.12.8"
  },
  "prev_pub_hash": "1d85068db2e9321c0f82f53364642bad437fc727f27ebcc94dcddab25e9a8289"
 },
 "nbformat": 4,
 "nbformat_minor": 4
}
